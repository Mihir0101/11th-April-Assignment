{
 "cells": [
  {
   "cell_type": "markdown",
   "id": "6703fbf1-406a-43b7-81d2-7f5bdfa1e2cc",
   "metadata": {},
   "source": [
    "# 11th April Assignment"
   ]
  },
  {
   "cell_type": "code",
   "execution_count": null,
   "id": "cb666742-2741-4a79-a690-f086bfcfa131",
   "metadata": {},
   "outputs": [],
   "source": []
  },
  {
   "cell_type": "markdown",
   "id": "92b2e498-6357-497a-a7ca-9cc5fa4dc9a3",
   "metadata": {},
   "source": [
    "## Q1. What is an ensemble technique in machine learning?"
   ]
  },
  {
   "cell_type": "markdown",
   "id": "92a14aa3-b7db-4cc0-b59c-52e822a0501f",
   "metadata": {},
   "source": [
    "- > Ensemble technique is a technique in which we use multiple algorithm to predict the output.\n",
    "\n",
    "- > There is two majore ensemble technique : (1) Bagging Technique (2) Boosting Technique"
   ]
  },
  {
   "cell_type": "code",
   "execution_count": null,
   "id": "6799d942-0e06-4cbc-a6ba-150345155677",
   "metadata": {},
   "outputs": [],
   "source": []
  },
  {
   "cell_type": "markdown",
   "id": "e9f46e54-75ee-4772-9f82-2df1e9cc0a2c",
   "metadata": {},
   "source": [
    "## Q2. Why are ensemble techniques used in machine learning?"
   ]
  },
  {
   "cell_type": "markdown",
   "id": "d52ace0f-c1b9-4397-9e05-f355fd7ac502",
   "metadata": {},
   "source": [
    "- > We can use ensemble technique for many reasons but the major use of it is to reduce the varaince. \n",
    "\n",
    "- > To create the generalized model.\n",
    "\n",
    "- > Ensembles can capture complex relationships in the data by combining the strengths of different models. "
   ]
  },
  {
   "cell_type": "code",
   "execution_count": null,
   "id": "aa94a7d9-d291-491f-97bc-4bb6bf2ecc5b",
   "metadata": {},
   "outputs": [],
   "source": []
  },
  {
   "cell_type": "markdown",
   "id": "fefbd80f-58ea-4653-8f2c-0f5fd966527f",
   "metadata": {},
   "source": [
    "## Q3. What is bagging?"
   ]
  },
  {
   "cell_type": "markdown",
   "id": "560a6a64-c914-4ca6-a846-3cd466f1a4fe",
   "metadata": {},
   "source": [
    "- > Bagging is a type of ensemble technique.\n",
    "\n",
    "- > In bagging technique we train multiple models parallely.\n",
    "\n",
    "- > There is two techniques in bagging :\n",
    "\n",
    "            (i) Bootstrap Aggregation\n",
    "    \n",
    "            (ii) Random Forest\n",
    "\n",
    "- > Bagging technique is used for solve both classification and regression problem."
   ]
  },
  {
   "cell_type": "code",
   "execution_count": null,
   "id": "b6a3fc9d-2099-43c6-a31b-fd039784f56e",
   "metadata": {},
   "outputs": [],
   "source": []
  },
  {
   "cell_type": "markdown",
   "id": "41290e91-d27c-44c8-b4f3-d3515660901f",
   "metadata": {},
   "source": [
    "## Q4. What is boosting?"
   ]
  },
  {
   "cell_type": "markdown",
   "id": "387edc2a-a216-4fcf-bc29-7fd62a9cd4e5",
   "metadata": {},
   "source": [
    "- > Boosting technique is also a type of ensemble technique.\n",
    "\n",
    "- > In boosting technique we train our models sequentially.\n",
    "\n",
    "- > There is three technique in boosting.\n",
    "\n",
    "            (i) Adaboost\n",
    "            \n",
    "            (ii) Gradientboost\n",
    "            \n",
    "            (iii) Xgboost"
   ]
  },
  {
   "cell_type": "code",
   "execution_count": null,
   "id": "9ff72319-53ca-4a4f-b549-0416eced67ab",
   "metadata": {},
   "outputs": [],
   "source": []
  },
  {
   "cell_type": "markdown",
   "id": "fd1633ae-67f5-48e5-9f83-4f4727ddfdce",
   "metadata": {},
   "source": [
    "## Q5. What are the benefits of using ensemble techniques?"
   ]
  },
  {
   "cell_type": "markdown",
   "id": "8e103aae-8395-42b2-8f08-7b1d1e2a325d",
   "metadata": {},
   "source": [
    "- > Reduce variance.\n",
    "\n",
    "- > Handling complex relationship.\n",
    "\n",
    "- > They can be used with decision trees, neural networks, support vector machines, and other algorithms.\n",
    "\n",
    "- > Create generalized model."
   ]
  },
  {
   "cell_type": "code",
   "execution_count": null,
   "id": "b4c69eeb-2683-4624-aff9-dbd81e279ab5",
   "metadata": {},
   "outputs": [],
   "source": []
  },
  {
   "cell_type": "markdown",
   "id": "14dc5ce0-2aa8-4518-b4c6-765153d2133f",
   "metadata": {},
   "source": [
    "## Q6. Are ensemble techniques always better than individual models?"
   ]
  },
  {
   "cell_type": "markdown",
   "id": "321e960e-5ac2-4755-8f89-2e5f1855cc19",
   "metadata": {},
   "source": [
    "- > Diversity is crucial in ensemble technique.Because if all model in ensemble technique are same so it will not perform that much good.\n",
    "\n",
    "- > For small datasets the individual model would perform as well as ensemble or better than it.\n",
    "\n",
    "- > If individual models are highly correlated,so the margin of combining them all in ensemble might be limited.\n",
    "\n",
    "- > Individual model takes less time in training than the ensemble model takes."
   ]
  },
  {
   "cell_type": "code",
   "execution_count": null,
   "id": "8459cde3-f530-4e62-8466-331908a86d39",
   "metadata": {},
   "outputs": [],
   "source": []
  },
  {
   "cell_type": "markdown",
   "id": "ef857685-94e3-40d7-983a-d33d56f881f0",
   "metadata": {},
   "source": [
    "## Q7. How is the confidence interval calculated using bootstrap?"
   ]
  },
  {
   "cell_type": "markdown",
   "id": "6bf0d228-7ce3-4c0b-9eef-05314f0a8590",
   "metadata": {},
   "source": [
    "- > Determine the confidence level you want for your interval (common choices are 95% or 99% confidence). For a 95% confidence interval, you would typically take the values at the 2.5th percentile and the 97.5th percentile of the ordered bootstrap statistics.\n",
    "\n",
    "- > If B is the number of bootstrap samples and alpha is the significance level, the confidence interval is given by the (alpha/2)th and (1 - alpha/2)th percentiles of the ordered statistics.\n",
    "\n",
    "- > The formula for a 95% confidence interval would be:\n",
    "\n",
    "            Lower Limit=Bootstrap Statistic(α/2)\n",
    "\n",
    "            Upper Limit=Bootstrap Statistic(1−2/α)"
   ]
  },
  {
   "cell_type": "code",
   "execution_count": null,
   "id": "bea32615-b94b-4fa7-98dd-4a6a959fa683",
   "metadata": {},
   "outputs": [],
   "source": []
  },
  {
   "cell_type": "markdown",
   "id": "3b57ebf1-c525-458a-9db5-5c54203022c2",
   "metadata": {},
   "source": [
    "## Q8. How does bootstrap work and What are the steps involved in bootstrap?"
   ]
  },
  {
   "cell_type": "markdown",
   "id": "6966a311-7b1e-4c7c-9b94-20eace3ce09e",
   "metadata": {},
   "source": [
    "step 1 - First of all we have to divide dataset for assign it to the different models.\n",
    "\n",
    "step 2 - After dividing the dataset we will randomly assign that parts of data to the models.\n",
    "\n",
    "step 3 - We assign the dataparts randomly to the models,because of it some data would be remain unassigned.For solve this problem there is a feature name oob-score.If we make\n",
    "\n",
    "       true this feature so it will take that unassigned data as validation data and also gives us the accuracy of it.\n",
    "\n",
    "step 4 - All model will predict the data.\n",
    "\n",
    "step 5 - Our final output will be most frequent for classification and average for the regression problem."
   ]
  },
  {
   "cell_type": "code",
   "execution_count": null,
   "id": "ed10802e-2fbb-4337-a4e3-8b41fc28cb8d",
   "metadata": {},
   "outputs": [],
   "source": []
  },
  {
   "cell_type": "markdown",
   "id": "c0998e15-9c11-401d-a597-354d5047ec81",
   "metadata": {},
   "source": [
    "## Q9. A researcher wants to estimate the mean height of a population of trees. They measure the height of a sample of 50 trees and obtain a mean height of 15 meters and a standard deviation of 2 meters. Use bootstrap to estimate the 95% confidence interval for the population mean height."
   ]
  },
  {
   "cell_type": "code",
   "execution_count": 6,
   "id": "86688f7e-e087-45c4-81ef-6a130156061e",
   "metadata": {},
   "outputs": [],
   "source": [
    "import numpy as np"
   ]
  },
  {
   "cell_type": "code",
   "execution_count": 7,
   "id": "9874c0a1-793e-4bdc-ac7f-d03384eb7af1",
   "metadata": {},
   "outputs": [],
   "source": [
    "sample_mean = 15\n",
    "sample_std = 2\n",
    "sample_size = 50"
   ]
  },
  {
   "cell_type": "code",
   "execution_count": 8,
   "id": "6bf7e962-0e1a-4419-8b14-988fc3eac06e",
   "metadata": {},
   "outputs": [],
   "source": [
    "b = 10000"
   ]
  },
  {
   "cell_type": "code",
   "execution_count": 9,
   "id": "41dcbc9d-4831-4187-af55-9778036899a9",
   "metadata": {},
   "outputs": [],
   "source": [
    "bootstrap_samples = np.random.normal(loc=sample_mean,scale=sample_std,size=(b,sample_size))"
   ]
  },
  {
   "cell_type": "code",
   "execution_count": 10,
   "id": "d66c56c4-67b8-40be-809d-6b5262ef6190",
   "metadata": {},
   "outputs": [
    {
     "data": {
      "text/plain": [
       "array([[11.69583606, 16.54808903, 16.33581251, ..., 17.35930923,\n",
       "        13.89446674, 16.27378276],\n",
       "       [16.50791925, 15.34505597, 15.3569322 , ..., 16.27218635,\n",
       "        13.79129999, 10.42617987],\n",
       "       [16.18036169, 15.2781885 , 12.70878182, ..., 14.08512013,\n",
       "        18.63388809, 12.8514785 ],\n",
       "       ...,\n",
       "       [14.32508006, 15.69642205, 13.69825622, ..., 15.48915002,\n",
       "        13.91592657, 13.25202407],\n",
       "       [15.44191427, 14.7016403 , 13.36751708, ..., 16.30260605,\n",
       "        13.42626487, 14.00085831],\n",
       "       [15.1291996 , 19.77184004, 13.98360229, ..., 13.24882342,\n",
       "        16.23671451, 16.20300944]])"
      ]
     },
     "execution_count": 10,
     "metadata": {},
     "output_type": "execute_result"
    }
   ],
   "source": [
    "bootstrap_samples"
   ]
  },
  {
   "cell_type": "code",
   "execution_count": 11,
   "id": "d22f8adf-08b7-4ee4-ad18-bd3e7f50ed01",
   "metadata": {},
   "outputs": [],
   "source": [
    "bootstrap_mean = np.mean(bootstrap_samples,axis=1)"
   ]
  },
  {
   "cell_type": "code",
   "execution_count": null,
   "id": "7e657d6b-618a-422a-889b-1c8f1189dd8b",
   "metadata": {},
   "outputs": [],
   "source": [
    "confidence_interval = np.percentile"
   ]
  }
 ],
 "metadata": {
  "kernelspec": {
   "display_name": "Python 3 (ipykernel)",
   "language": "python",
   "name": "python3"
  },
  "language_info": {
   "codemirror_mode": {
    "name": "ipython",
    "version": 3
   },
   "file_extension": ".py",
   "mimetype": "text/x-python",
   "name": "python",
   "nbconvert_exporter": "python",
   "pygments_lexer": "ipython3",
   "version": "3.10.8"
  }
 },
 "nbformat": 4,
 "nbformat_minor": 5
}
